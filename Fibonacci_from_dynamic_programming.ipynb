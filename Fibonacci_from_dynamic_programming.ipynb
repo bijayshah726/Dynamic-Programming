{
  "nbformat": 4,
  "nbformat_minor": 0,
  "metadata": {
    "colab": {
      "name": "Fibonacci from dynamic programming",
      "provenance": []
    },
    "kernelspec": {
      "name": "python3",
      "display_name": "Python 3"
    },
    "language_info": {
      "name": "python"
    }
  },
  "cells": [
    {
      "cell_type": "code",
      "execution_count": 3,
      "metadata": {
        "id": "XGWDQH5dTayH"
      },
      "outputs": [],
      "source": [
        "import numpy as np\n",
        "import time"
      ]
    },
    {
      "cell_type": "markdown",
      "source": [
        "##Recursion Method\n",
        "Time complexity = $O(e^n)$"
      ],
      "metadata": {
        "id": "cJx2P8gvbGAq"
      }
    },
    {
      "cell_type": "code",
      "source": [
        "#base case\n",
        "#This ons uses exponential time\n",
        "F=[1,1]\n",
        "\n",
        "def fibo(n):\n",
        "  if n==0 or n==1:\n",
        "    return F[n]\n",
        "  else:\n",
        "    return fibo(n-1)+fibo(n-2)"
      ],
      "metadata": {
        "id": "twk-ocBHTkeP"
      },
      "execution_count": 8,
      "outputs": []
    },
    {
      "cell_type": "code",
      "source": [
        "start=time.time()\n",
        "print(fibo(35))\n",
        "print(time.time()-start)"
      ],
      "metadata": {
        "colab": {
          "base_uri": "https://localhost:8080/"
        },
        "id": "wPheTVZZT8W6",
        "outputId": "5b876d6d-7856-4d94-e2ad-30cee23b139f"
      },
      "execution_count": 30,
      "outputs": [
        {
          "output_type": "stream",
          "name": "stdout",
          "text": [
            "14930352\n",
            "4.972631931304932\n"
          ]
        }
      ]
    },
    {
      "cell_type": "markdown",
      "source": [
        "##Dynamic Programming\n",
        "Time complexity = $O(n)$ ignoring addition, large number and assuming w word RAM model is sufficient for given n."
      ],
      "metadata": {
        "id": "neqgnYlbbR3M"
      }
    },
    {
      "cell_type": "code",
      "source": [
        "#dp approach\n",
        "f=[1,1]\n",
        "def fibo_dp(n):\n",
        "  if n<len(f):\n",
        "    return f[n]\n",
        "  if n==len(f):\n",
        "    f.append(f[n-1]+f[n-2])\n",
        "    return f[n]\n",
        "  else:\n",
        "    return fibo_dp(n-1)+fibo_dp(n-2)"
      ],
      "metadata": {
        "id": "u7nd7u6LUMi8"
      },
      "execution_count": 18,
      "outputs": []
    },
    {
      "cell_type": "code",
      "source": [
        "f=[1,1]\n",
        "start=time.time()\n",
        "print(fibo_dp(500))\n",
        "print(time.time()-start)"
      ],
      "metadata": {
        "colab": {
          "base_uri": "https://localhost:8080/"
        },
        "id": "-UL0OnWvW2Te",
        "outputId": "7a61c6f0-d4c0-44e4-9529-bd49b95aeb54"
      },
      "execution_count": 33,
      "outputs": [
        {
          "output_type": "stream",
          "name": "stdout",
          "text": [
            "225591516161936330872512695036072072046011324913758190588638866418474627738686883405015987052796968498626\n",
            "0.003172636032104492\n"
          ]
        }
      ]
    },
    {
      "cell_type": "code",
      "source": [
        ""
      ],
      "metadata": {
        "id": "Gp12wFV8W32U"
      },
      "execution_count": null,
      "outputs": []
    }
  ]
}