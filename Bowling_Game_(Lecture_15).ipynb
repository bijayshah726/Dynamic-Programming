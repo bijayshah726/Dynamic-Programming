{
  "nbformat": 4,
  "nbformat_minor": 0,
  "metadata": {
    "colab": {
      "name": "Bowling Game (Lecture 15)",
      "provenance": [],
      "collapsed_sections": []
    },
    "kernelspec": {
      "name": "python3",
      "display_name": "Python 3"
    },
    "language_info": {
      "name": "python"
    }
  },
  "cells": [
    {
      "cell_type": "code",
      "execution_count": 1,
      "metadata": {
        "id": "XGWDQH5dTayH"
      },
      "outputs": [],
      "source": [
        "import numpy as np\n",
        "import time"
      ]
    },
    {
      "cell_type": "markdown",
      "source": [
        "##Problem Definition\n",
        "\n",
        "\n",
        "*   Given n pins (bottles) 0,1,...,n-1.\n",
        "*   Each pins has balue $V_i$.\n",
        "*   If you hit 1 pin, you get $V_i$ point.\n",
        "*   If you hit 2 pins, you get $V_i\\times V_{i+1}$ points.\n",
        "*   One can also prefer not to hit the pins\n",
        "*   Maximize Score\n",
        "\n",
        "\n",
        "\n",
        "\n",
        "\n",
        "\n"
      ],
      "metadata": {
        "id": "cJx2P8gvbGAq"
      }
    },
    {
      "cell_type": "markdown",
      "source": [
        "##Sample Example\n",
        "Let -3,1,9,2 be one such set.\n",
        "\n",
        "If say you hit pin 2nd, 3rd and 4th alone and do not hit first pin, your score would be = 1+9+2 =12\n",
        "\n",
        "If you hit 2nd alone but 3rd and 4th together, score = 1+9*2 = 19\n",
        "\n",
        "This might be highest score, but how to check? Concept of DP is useful here."
      ],
      "metadata": {
        "id": "AF_BOG4e6pKJ"
      }
    },
    {
      "cell_type": "markdown",
      "source": [
        "##Dynamic Programming\n",
        "SRTBOT alogorithm as explained in L15.\n",
        "\n",
        "\n",
        "*   Subproblem: B(i) = max score possible starting with i,i+1, n-1.\n",
        "\n",
        "*   Relate: $$ B(i)= max \\left[B(i+1), B(i+1)+V_i, B(i+2)+V_i \\times V_{i+1}    \\right] $$\n",
        "This concept checks if one would prefer hitting 0,1 or 2 pin.\n",
        "\n",
        "*   Topological order. From i =n,n-1, ..., 0\n",
        "*   Base case: B(n)=0\n",
        "\n",
        "*   Original: B(0) is what we have to find.\n",
        "\n",
        "\n",
        "*   Time complexity: $O(1)\\times O(n) =O(n)$\n",
        "Because subproblems are of O(n) and rleation comaprison and calculation would take O(1).\n",
        "\n"
      ],
      "metadata": {
        "id": "neqgnYlbbR3M"
      }
    },
    {
      "cell_type": "markdown",
      "source": [
        "### DP applied to [-3,1,9,2] pin\n",
        "n=4\n",
        "\n",
        "\n",
        "*   $B(4)=0$\n",
        "*   $ B(3) = max \\left[ B(4), B(4)+V[3], no B(5)   \\right] = max (0,2) =2$\n",
        "\n",
        "*   $ B(2) = max\\left( B(3), B(3)+V[2], B(4)+V[2]*V[3]= max (2, 11, 18)= 18 \\right)$\n",
        "\n",
        "And this one you can guess.\n",
        "*   $B(1)=19$\n",
        "\n",
        "\n",
        "*   $B(0) = max (19, 19-3, 18-3)=19$"
      ],
      "metadata": {
        "id": "CB3RxxrcBCoD"
      }
    },
    {
      "cell_type": "code",
      "source": [
        "#dp approach\n",
        "V=[-3,1,9,2]\n",
        "n=len(V)\n",
        "B=[0]*(n+1)\n",
        "#storing all B as 0\n",
        "\n",
        "for i in range(n-1,-1,-1):\n",
        "  if i==n-1:\n",
        "    B[i]=B[i]=max(B[i+1],B[i+1]+V[i])\n",
        "  else:\n",
        "    B[i]=max(B[i+1],B[i+1]+V[i],B[i+2]+V[i]*V[i+1])\n",
        "print(B,\"\\nmax score is\",B[0])"
      ],
      "metadata": {
        "id": "u7nd7u6LUMi8",
        "colab": {
          "base_uri": "https://localhost:8080/"
        },
        "outputId": "16aaafc0-3249-42c1-dab0-144354deb9bd"
      },
      "execution_count": 11,
      "outputs": [
        {
          "output_type": "stream",
          "name": "stdout",
          "text": [
            "[19, 19, 18, 2, 0] \n",
            "max score is 19\n"
          ]
        }
      ]
    },
    {
      "cell_type": "code",
      "source": [
        "#Instead of comparison of i==n-1 at each step, calculating it once and removing it\n",
        "#dp approach\n",
        "V=[-3,1,9,2]\n",
        "n=len(V)\n",
        "B=[0]*(n+1)\n",
        "B[n-1]=max(B[n],B[n]+V[n-1])\n",
        "#storing all B as 0\n",
        "\n",
        "for i in range(n-2,-1,-1):\n",
        "  B[i]=max(B[i+1],B[i+1]+V[i],B[i+2]+V[i]*V[i+1])\n",
        "print(B,\"\\nmax score is\",B[0])"
      ],
      "metadata": {
        "colab": {
          "base_uri": "https://localhost:8080/"
        },
        "id": "40Kb_N4VEDQ2",
        "outputId": "36e54a3f-f3ab-42be-c0dd-e8e9a429cb54"
      },
      "execution_count": 12,
      "outputs": [
        {
          "output_type": "stream",
          "name": "stdout",
          "text": [
            "[19, 19, 18, 2, 0] \n",
            "max score is 19\n"
          ]
        }
      ]
    }
  ]
}